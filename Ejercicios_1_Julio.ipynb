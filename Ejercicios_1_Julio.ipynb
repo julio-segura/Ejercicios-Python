{
 "cells": [
  {
   "cell_type": "markdown",
   "id": "66d149f4-4b97-449d-ab84-11b8a21aa0ba",
   "metadata": {},
   "source": [
    "# Ejercicios de introducción a Python para análisis de datos"
   ]
  },
  {
   "cell_type": "markdown",
   "id": "797bbfe3-3370-4bec-968a-d98f7c17e885",
   "metadata": {},
   "source": [
    "\n",
    "## __1. Calcular los beneficios después de impuestos__\n",
    "\n",
    "### 1.1. Cree una variable que almacene los ingresos brutos de un individuo en el año 2018, que en este caso será de 75,000 euros. Llame a esta variable ```income_before_taxes```.\n"
   ]
  },
  {
   "cell_type": "code",
   "execution_count": 1,
   "id": "912f023a-d09f-43db-918d-4e7a4edbc5f7",
   "metadata": {},
   "outputs": [
    {
     "name": "stdout",
     "output_type": "stream",
     "text": [
      "Los ingresos brutos de Mortadelo en el año 2018 fueron de 75000 euros.\n"
     ]
    }
   ],
   "source": [
    "individuo = \"Mortadelo\"\n",
    "income_before_taxes = 75000 #euros\n",
    "\n",
    "print(f\"Los ingresos brutos de {individuo} en el año 2018 fueron de {income_before_taxes} euros.\")"
   ]
  },
  {
   "cell_type": "markdown",
   "id": "69befe4b-1c2d-4379-b9fa-3e04916ce916",
   "metadata": {},
   "source": [
    "### 1.2. La tasa impositiva efectiva de la persona en el ejemplo anterior es 21.5%. Crea una nueva variable, llamada ```tax_rate```, que almacena la tasa efectiva de impuestos."
   ]
  },
  {
   "cell_type": "code",
   "execution_count": 2,
   "id": "431983e7-f8cd-42c1-a49f-f19ef2b6dcbf",
   "metadata": {},
   "outputs": [
    {
     "name": "stdout",
     "output_type": "stream",
     "text": [
      "La tasa efectiva de impuestos que Mortadelo debe pagar es de 16125 euros.\n"
     ]
    }
   ],
   "source": [
    "tasa_impositiva = 21.5 # porcentaje sobre el total de las ganancias en un año\n",
    "\n",
    "tax_rate = income_before_taxes * tasa_impositiva / 100\n",
    "\n",
    "print(f\"La tasa efectiva de impuestos que {individuo} debe pagar es de {round(tax_rate)} euros.\")\n",
    "\n"
   ]
  },
  {
   "cell_type": "markdown",
   "id": "2c5c5090-b488-4a78-8401-4ffc9cc3d75e",
   "metadata": {},
   "source": [
    "### 1.3. Cree una nueva variable, llamada ```income_after_taxes```, que almacene el ingreso neto de la persona. Por favor, usa las variables creadas previamente."
   ]
  },
  {
   "cell_type": "code",
   "execution_count": 3,
   "id": "91945e0c-0efc-4c00-8ff4-8d66e01d47d5",
   "metadata": {},
   "outputs": [
    {
     "name": "stdout",
     "output_type": "stream",
     "text": [
      "El ingreso neto de Mortadelo en el año 2018 fue de 58875 euros.\n"
     ]
    }
   ],
   "source": [
    "income_after_taxes = income_before_taxes - tax_rate\n",
    "\n",
    "print(f\"El ingreso neto de {individuo} en el año 2018 fue de {round(income_after_taxes)} euros.\")"
   ]
  },
  {
   "cell_type": "markdown",
   "id": "77a6388f-bec1-462a-9ec3-3ed7679b6f9a",
   "metadata": {},
   "source": [
    "### 1.4. Comprueba qué tipo de variable es ```income_after_taxes```."
   ]
  },
  {
   "cell_type": "code",
   "execution_count": 4,
   "id": "5b0755a1-b20e-48fc-9596-021d6463a6ed",
   "metadata": {},
   "outputs": [
    {
     "name": "stdout",
     "output_type": "stream",
     "text": [
      "<class 'str'>\n"
     ]
    }
   ],
   "source": [
    "print(type(\"income_after_taxes\"))"
   ]
  },
  {
   "cell_type": "markdown",
   "id": "78e7f80b-0cfb-4f0e-9414-4d8beec83ae6",
   "metadata": {},
   "source": [
    "\n",
    "## __2. Cálculo de la longitud de la hipotenusa__\n",
    "\n",
    "### Imagina que un triángulo rectángulo con lados es __𝑎=4__ , __𝑏=3__ y __𝑐__ (desconocido). Si el lado __𝑐__ es la hipotenusa, calcule su longitud. Use ```print ()``` para mostrar la solución."
   ]
  },
  {
   "cell_type": "code",
   "execution_count": 5,
   "id": "2c102985-66c7-4ad2-83d4-e7ac33cdb06f",
   "metadata": {},
   "outputs": [
    {
     "name": "stdout",
     "output_type": "stream",
     "text": [
      "Este ejercicio me ha costado. Soy cero de matemáticas, así que he tenido que buscar cómo calcular la hipotenusa no sin antes averiguar primero qué era una hipotenusa.\n",
      "\n",
      "\n",
      "El caso es que la hipotenusa de un triángulo se calcula con el Teoréma de Pitágoras, que luce más o menos así:\n"
     ]
    }
   ],
   "source": [
    "print(\"Este ejercicio me ha costado. Soy cero de matemáticas, así que he tenido que buscar cómo calcular la hipotenusa \\\n",
    "... no sin antes averiguar primero qué era una hipotenusa.\")\n",
    "print(\"\\n\")\n",
    "print(\"El caso es que la hipotenusa de un triángulo se calcula con el Teoréma de Pitágoras, que luce más o menos así:\")\n"
   ]
  },
  {
   "attachments": {
    "369d94e4-198e-4e2b-a894-a09b737d2a1f.jpeg": {
     "image/jpeg": "[encoded data removed]"
    }
   },
   "cell_type": "markdown",
   "id": "e2705efc-bf8b-415f-adcf-21d91dc9635f",
   "metadata": {},
   "source": [
    "![Pythagorean-Theorem.jpeg](attachment:369d94e4-198e-4e2b-a894-a09b737d2a1f.jpeg)"
   ]
  },
  {
   "cell_type": "code",
   "execution_count": 6,
   "id": "755819a2-0336-43dd-a073-2a09741496a0",
   "metadata": {},
   "outputs": [
    {
     "name": "stdout",
     "output_type": "stream",
     "text": [
      "Por lo tanto, tenemos los siguientes datos:\n",
      "El cateto a tiene un valor de 4.\n",
      "El cateto b tiene un valor de 3.\n",
      "La hipotenusa, que es c, tiene un valor X (desconocido).\n",
      "\n",
      "\n",
      "El teorema de Pitagoras nos dice que el valor de X al cuadrado es igual al valor de a al cuadrado más b al cuadrado. Así que:\n",
      "El resultado de sumar a al cuadrado y b al cuadrado es 25.\n",
      "\n",
      "\n",
      "Ahora, vete tu a saber por qué, tenemos que calcular la raíz cuadrada del resultado obtenido. ... Para ello, importamos la librería math, tal que así 'import math': \n",
      "Y obtenemos la raíz cuadrada con la función 'sqrt'.\n",
      "Lo que nos da como resultado 5.\n",
      "Por lo tanto, la longitud de la hipotenusa es 5.\n"
     ]
    }
   ],
   "source": [
    "print(\"Por lo tanto, tenemos los siguientes datos:\")\n",
    "\n",
    "a = 4\n",
    "b = 3\n",
    "c = 0\n",
    "\n",
    "print(f\"El cateto a tiene un valor de {a}.\")\n",
    "print(f\"El cateto b tiene un valor de {b}.\")\n",
    "print(f\"La hipotenusa, que es c, tiene un valor X (desconocido).\")\n",
    "print(\"\\n\")\n",
    "print(\"El teorema de Pitagoras nos dice que el valor de X al cuadrado es igual al valor de a al cuadrado más b al cuadrado. Así que:\")\n",
    "\n",
    "teorema = a**2 + b**2\n",
    "print(f\"El resultado de sumar a al cuadrado y b al cuadrado es {teorema}.\")\n",
    "print(\"\\n\")\n",
    "print(f\"Ahora, vete tu a saber por qué, tenemos que calcular la raíz cuadrada del resultado obtenido. \\\n",
    "... Para ello, importamos la librería math, tal que así 'import math': \")\n",
    "\n",
    "import math\n",
    "\n",
    "print(\"Y obtenemos la raíz cuadrada con la función 'sqrt'.\")\n",
    "\n",
    "resultado = math.sqrt(25)\n",
    "\n",
    "print(f\"Lo que nos da como resultado {int(resultado)}.\")\n",
    "\n",
    "print(f\"Por lo tanto, la longitud de la hipotenusa es {int(resultado)}.\")"
   ]
  },
  {
   "cell_type": "markdown",
   "id": "434d6a66-4f88-4798-ac18-1f618e1a31d7",
   "metadata": {},
   "source": [
    "# __3. Calculo del area de un trapezoide__\n",
    "\n",
    "### Un trapezoide (o trapecio) es un cuadrilátero con dos lados paralelos. Un ejemplo de este trapecio se puede ver en la siguiente figura:\n",
    "\n",
    "![A trapezoide](https://qph.fs.quoracdn.net/main-qimg-d5e9b5429ae03182bf261aaeb98fd1b5 \"A trapezoid\")\n",
    "\n",
    "\n",
    "### El area de esta figura se calcula como:\n",
    "### $$A = h \\frac{a + b}{2}$$\n",
    "\n",
    "### Imagine un trapecio con lados iguales a 5 y 10, y una altura igual a 6. Asigne nombres de variables a estos valores y use estos nombres para calcular el área de dicho trapecio y muestre la solución."
   ]
  },
  {
   "cell_type": "code",
   "execution_count": 7,
   "id": "5636199a-7962-48e6-a823-090826b61068",
   "metadata": {},
   "outputs": [
    {
     "name": "stdout",
     "output_type": "stream",
     "text": [
      "El área del trapecio es 45 centímetros cuadrados.\n"
     ]
    }
   ],
   "source": [
    "a = 5 #centimetros\n",
    "b = 10 #centimetros\n",
    "h = 6 #centimetros\n",
    "\n",
    "area = 1/2*h*(a+b)\n",
    "\n",
    "print(f\"El área del trapecio es {(int(area))} centímetros cuadrados.\")"
   ]
  },
  {
   "cell_type": "markdown",
   "id": "8e7b663e-3474-4f3c-9e9d-9eb96889bbab",
   "metadata": {},
   "source": [
    "\n",
    "# __4. Cálculo del ingreso después de impuestos (avanzado)__\n",
    "\n",
    "### Recuerde a la persona en el Ejercicio 1. Escriba un programa Python que le solicite al usuario su ingreso anual bruto el año pasado y devuelve como resultado el total de impuestos que tiene que pagar, asumiendo una tasa impositiva efectiva del 21.5%. Use ```print ()``` para mostrar la solución.\n",
    "\n",
    "### Nota: _hay un problema aquí que tendrá que considerar. Al leer la entrada del usuario, se proporcionará como una cadena (`` `str```). Sin embargo, para poder operar con él, deberá convertir el tipo de datos a uno válido. Este proceso se llama * casting *. Puedes hacer esto usando una sintaxis como la siguiente:_\n",
    "\n",
    "### ```num = float (<input>)```\n",
    "\n",
    "### En el código anterior, ```<entrada>``` se refiere a la variable que desea convertir, que por supuesto debe tener el formato correcto.\n"
   ]
  },
  {
   "cell_type": "code",
   "execution_count": null,
   "id": "6f0112cd-640e-4e64-93d4-a8117dc725ab",
   "metadata": {},
   "outputs": [
    {
     "name": "stdout",
     "output_type": "stream",
     "text": [
      "¿Cuánto has ganado este año?\n"
     ]
    }
   ],
   "source": [
    "# Queremos un programa que solicite al usuario su ingreso anual bruto.\n",
    "\n",
    "print(\"¿Cuánto has ganado este año?\")\n",
    "x = input()\n",
    "print(f\"Este año he ganado {x} euros.\")"
   ]
  },
  {
   "cell_type": "code",
   "execution_count": null,
   "id": "ad17cb10-9c1f-4580-8c29-9f3e0b3157a8",
   "metadata": {},
   "outputs": [],
   "source": [
    "# Y que luego devuelva como resultado el total de impuestos que tiene que pagar.\n",
    "\n",
    "tasa_impositiva = 21.5 # porcentaje sobre el total de las ganancias en un año\n",
    "impuestos = int(x) * tasa_impositiva / 100\n",
    "\n",
    "print(f\"En proporción a tus ingresos de {int(x)} euros, has de pagar {int(impuestos)} euros en impuestos este año.\")"
   ]
  },
  {
   "cell_type": "code",
   "execution_count": null,
   "id": "4241e578-817a-4cfb-9d7b-c03af2498261",
   "metadata": {},
   "outputs": [],
   "source": [
    "print(f\"Así, tu sueldo neto este año es de {int(x) - int(impuestos)} euros.\")"
   ]
  },
  {
   "cell_type": "markdown",
   "id": "31dad3da-7642-46f3-9f48-5e5d85a4140d",
   "metadata": {},
   "source": [
    "\n",
    "# __5. Cálculo del ingreso después de impuestos (avanzado +)__\n",
    "\n",
    "### Tomemos el ejemplo del ejercicio anterior. Ahora escriba un programa de Python que le pida al usuario primero su ingreso anual bruto en el último año, y luego, su tasa impositiva efectiva. Calcule los impuestos correspondientes e imprima la solución.\n"
   ]
  },
  {
   "cell_type": "code",
   "execution_count": null,
   "id": "6e85adad-0161-431a-9ff6-c97529d4df9b",
   "metadata": {},
   "outputs": [],
   "source": [
    "# Primero, queremos que el usuario ingrese su salario anual bruto y su tasa impositiva efectiva.\n",
    "\n",
    "print(\"¿Cuánto has ganado este año?\")\n",
    "x = input()\n",
    "print(f\"Este año he ganado {x} euros.\")\n",
    "\n",
    "print(\"¿Cuál es tu tasa impositiva efectiva?\")\n",
    "y = input()\n",
    "print(f\"A tu sueldo bruto de {x} hay que restarle el {y}% en impuestos.\")"
   ]
  },
  {
   "cell_type": "code",
   "execution_count": null,
   "id": "51388917-9fa4-4e11-941e-a82ee25c7500",
   "metadata": {},
   "outputs": [],
   "source": [
    "# Ahora, calculamos los impuestos correspondientes\n",
    "\n",
    "tasa_impositiva = int(y) # porcentaje sobre el total de las ganancias en un año\n",
    "impuestos = int(x) * tasa_impositiva / 100\n",
    "\n",
    "print(f\"En proporción a tus ingresos de {int(x)} euros, has de pagar {int(impuestos)} euros en impuestos este año.\")"
   ]
  },
  {
   "cell_type": "code",
   "execution_count": null,
   "id": "8f99287a-02df-4c28-8a41-029c3e147dae",
   "metadata": {},
   "outputs": [],
   "source": [
    "print(f\"Así, tu sueldo neto este año es de {int(x) - int(impuestos)} euros.\")"
   ]
  },
  {
   "cell_type": "markdown",
   "id": "785c8d03-8d8a-4fbb-8022-5e0178ec322d",
   "metadata": {},
   "source": [
    "\n",
    "# __6. Cálculo del ingreso después de impuestos (avanzado ++)__\n",
    "\n",
    "### Vamos a ampliar el programa anterior. Escriba uno nuevo que primero le pida al usuario su nombre. Segundo pregunte por los ingresos brutos del año pasado. En tercer lugar, pregunte por la tasa efectiva de impuestos. Finalmente, calcule sus impuestos y muestre la solución de la siguiente forma:\n",
    "\n",
    "```Hello, [name provided]. Your taxes for the last year total [taxes calculate].```"
   ]
  },
  {
   "cell_type": "code",
   "execution_count": null,
   "id": "ca1b405b-2b97-42bf-afcd-d851b7757aae",
   "metadata": {},
   "outputs": [],
   "source": [
    "# Primero, le pedimos al usuario su nombre:\n",
    "\n",
    "print(\"Hola, ¿cómo te llamas?\")\n",
    "nombre = input()\n",
    "print(\"Hola, \" + nombre)"
   ]
  },
  {
   "cell_type": "code",
   "execution_count": null,
   "id": "92a6c00e-949a-463b-b950-22178e62927a",
   "metadata": {},
   "outputs": [],
   "source": [
    "# Segundo, le preguntamos al usuario por sus ingresos brutos del año pasado\n",
    "\n",
    "print(f\"{nombre}, ¿cuáles fueron tus ingresos brutos el año pasado?\")\n",
    "x = input()\n",
    "print(f\"Mis ingresos brutos el año pasado fueron de {x} euros.\")"
   ]
  },
  {
   "cell_type": "code",
   "execution_count": null,
   "id": "65665a20-f357-4555-863a-91c9cb299271",
   "metadata": {},
   "outputs": [],
   "source": [
    "# Tercero, preguntamos por la tasa efectiva de impuestos\n",
    "\n",
    "print(f\"¿Cuál es tu tasa efectiva de impuestos para el ejercicio del año pasado?\")\n",
    "y = input()\n",
    "print(f\"A tu sueldo bruto de {x} hay que restarle el {y}% en impuestos.\")"
   ]
  },
  {
   "cell_type": "code",
   "execution_count": null,
   "id": "2d32e68c-e054-482d-b0bf-4f23d9e1de19",
   "metadata": {},
   "outputs": [],
   "source": [
    "# Por úlimo, calculamos los impuestos\n",
    "\n",
    "tasa_impositiva = int(y) # porcentaje sobre el total de las ganancias en un año\n",
    "impuestos = int(x) * tasa_impositiva / 100\n",
    "\n",
    "print(f\"Hello {nombre}. Your taxes for the last year total {int(impuestos)} euros.\")"
   ]
  },
  {
   "cell_type": "markdown",
   "id": "1a5f959a-2ad9-4412-8e14-81cd5103fe12",
   "metadata": {},
   "source": [
    "# __7. Convertir Celsius a Farenheit__\n",
    "\n",
    "### La ecuación que relaciona las temperaturas en grados Fahrenheit ($ T_f $) y en grados Celsius ($ T_c $) es la siguiente:\n",
    "\n",
    "### $$ T_f = T_c \\frac{9}{5} + 32 $$\n",
    "\n",
    "### Escriba un programa de Python que le pida al usuario la temperatura en grados Celsius y le devuelva grados Fahrenheit en la forma:\n",
    "\n",
    "### ```[temperatura proporcionada en Celsius] grados Celsius es equivalente a [emperatura Fahrenheit] grados Fahrenheit.```"
   ]
  },
  {
   "cell_type": "code",
   "execution_count": null,
   "id": "19fca473-09a2-44bc-815a-3618053284bb",
   "metadata": {},
   "outputs": [],
   "source": [
    "print(f\"Hola, introduce la temperatura en grados Celsius que quieras convertir a Farenheit:\")\n",
    "C = input()\n",
    "F = (int(C) * 9/5) + 32\n",
    "print(f\"{int(C)} grados Celsius es equivalente a {int(F)} grados Farenheit.\")"
   ]
  },
  {
   "cell_type": "markdown",
   "id": "726c7f9e-839f-4784-9af9-0f8e1444b449",
   "metadata": {},
   "source": [
    "\n",
    "# __8. Convertir Farenheit a Celsius__\n",
    "\n",
    "### Usando la información del ejercicio anterior, escribe el programa opuesto. Esto es, un programa donde el usuario introduce grados Fahrenheit y obtiene como resultado la temperatura en grados Celsius.\n"
   ]
  },
  {
   "cell_type": "code",
   "execution_count": null,
   "id": "d86cd764-7273-4b9a-93c6-975a99be53a7",
   "metadata": {},
   "outputs": [],
   "source": [
    "print(f\"Hola, introduce la temperatura en grados Farenheit que quieras convertir a Celsius:\")\n",
    "F = input()\n",
    "C = (int(F) - 32) * 5/9\n",
    "print(f\"{int(F)} grados Farenheit es equivalente a {int(C)} grados Celsius.\")"
   ]
  },
  {
   "cell_type": "markdown",
   "id": "60b52294-59a3-41b4-b6fe-67659c6b3db9",
   "metadata": {},
   "source": [
    "\n",
    "# __9. Cálculo del área de un trapecio (avanzado)__\n",
    "\n",
    "### Recuerda el trapecio en el ejercicio 3 anterior. Escriba un programa que le pida al usuario el valor de cada uno de los dos lados, así como la altura de un trapecio. Calcule el área de dicho cuadrilátero y visualice el siguiente texto:\n",
    "\n",
    "```El área del trapecio es: [valor del área].```\n"
   ]
  },
  {
   "cell_type": "code",
   "execution_count": null,
   "id": "13ce2bab-95ce-455c-8268-d35db882b879",
   "metadata": {},
   "outputs": [],
   "source": [
    "area = 1/2*h*(a+b)\n",
    "\n",
    "print(\"Hola, ¿cómo te llamas?\")\n",
    "usuario = input()\n",
    "\n",
    "print(f\"Encantado de conocerte, {usuario}.\")\n",
    "print(\"Veo que quieres calcular el área de un trapecio.\")\n",
    "print(\"Para ello, indícame los siguientes valores del trapecio:\")\n",
    "print(\"Su altura:\")\n",
    "h = float(input())\n",
    "print(\"Su lado A:\")\n",
    "a = float(input())\n",
    "print(\"Su lado B:\")\n",
    "b = float(input())\n",
    "print(f\"Muy bien, {usuario}, el área del trapecio es {(int(area))}.\")"
   ]
  },
  {
   "cell_type": "markdown",
   "id": "e016353d-fed0-498b-89df-337de0bc7d6d",
   "metadata": {},
   "source": [
    "# __10. Cálculo del área y volumen de una esfera__\n",
    "\n",
    "\n",
    "### El volumen ($V$) y el área ($A$) para una esfera común siguen las siguientes fórmulas:\n",
    "\n",
    "### $$ V = \\frac{4}{3}\\ pi r ^ 3 $$\n",
    "### $$ A = 4 \\ pi r ^ 2 $$\n",
    "\n",
    "### Escriba un programa de Python que solicite al usuario el diámetro deseado para una esfera e imprima el siguiente texto:\n",
    "\n",
    "### ```El volumen de tu esfera es [valor del volumen], con un area igual a [area] .```\n",
    "\n",
    "### Para simplificar, puede usar 3.14 como aproximación para $ \\ pi $."
   ]
  },
  {
   "cell_type": "code",
   "execution_count": null,
   "id": "d29b0e0a-ce2d-4088-9d50-6052c00c896c",
   "metadata": {},
   "outputs": [],
   "source": [
    "V = 4/3 * pi * pow(int(r),3)\n",
    "A = 4 * pi * pow(int(r),2)\n",
    "\n",
    "print(\"Introduce el diametro de tu esfera:\")\n",
    "pi = 3.14\n",
    "r = input()\n",
    "\n",
    "print(float(r))\n",
    "print(f\"El volumen de tu esfera es {V}, con un area igual a {A}\")"
   ]
  },
  {
   "cell_type": "code",
   "execution_count": null,
   "id": "a435758a-e6a3-4170-983f-60770f7d70cc",
   "metadata": {},
   "outputs": [],
   "source": []
  }
 ],
 "metadata": {
  "kernelspec": {
   "display_name": "Python 3",
   "language": "python",
   "name": "python3"
  },
  "language_info": {
   "codemirror_mode": {
    "name": "ipython",
    "version": 3
   },
   "file_extension": ".py",
   "mimetype": "text/x-python",
   "name": "python",
   "nbconvert_exporter": "python",
   "pygments_lexer": "ipython3",
   "version": "3.8.8"
  }
 },
 "nbformat": 4,
 "nbformat_minor": 5
}
